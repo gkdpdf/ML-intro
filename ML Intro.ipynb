{
 "cells": [
  {
   "cell_type": "markdown",
   "id": "a6f357f7-e6ee-4226-8d9a-46d68bb5fb89",
   "metadata": {},
   "source": [
    "#1\n",
    "--AI : Artifical intellgence is the system in which application do works their own\n",
    "example >>> Robots \n",
    "--ML : Machine learning we make machines to learn and forecasting the same.\n",
    "Example >> movie recommendation system\n",
    "--Deep learning : Machines mimic the human brain.\n",
    "Example >> Chat GPT\n",
    "\n"
   ]
  },
  {
   "cell_type": "markdown",
   "id": "6d832dc9-878f-4314-9c10-940dcc9daeb4",
   "metadata": {},
   "source": [
    "#2\n",
    "Supervised Learning in which classification and regression done on the dataset.\n",
    "Classification is used for the categorical data and regression for the continous data.\n",
    "Example : Size of the house and number of people will decide the price of the house for the regression\n"
   ]
  },
  {
   "cell_type": "markdown",
   "id": "cda4c5fd-4b4a-4906-8c49-534a08fdc1e5",
   "metadata": {},
   "source": [
    "#3\n",
    "Unsupervised Learning : Clustering done on datasets.\n",
    "Example : Expenditure and Salary groups will make clusters and marketing can be done on the same."
   ]
  },
  {
   "cell_type": "markdown",
   "id": "deb93b07-3db6-4385-aca2-4cf291f48a33",
   "metadata": {},
   "source": [
    "#4\n",
    "AI : Aritifical Intelligence is the smart system in which applications do theit own every work.\n",
    "ML : ML is the part of AI and machine make to be learn\n",
    "DL : Mimicing the human brain in the system\n",
    "DS : Data scientist need to work on the subset and they will combos of these systems."
   ]
  },
  {
   "cell_type": "markdown",
   "id": "e8d27cb0-88ac-40d5-a45e-db56df8bb707",
   "metadata": {},
   "source": [
    "#5 \n",
    "Supervised Learning in which classification and regression done on the dataset. \n",
    "Classification is used for the categorical data and regression for the continous data. \n",
    "\n",
    "Example : Size of the house and number of people will decide the price of the house for the regression\n",
    "\n",
    "\n",
    "Unsupervised Learning : Clustering done on datasets.\n",
    "Example : Expenditure and Salary groups will make clusters and marketing can be done on the same.\n",
    "\n",
    "Semi-Supervised : Combo of Supervised and Unsupervised Learning"
   ]
  },
  {
   "cell_type": "markdown",
   "id": "c719eb54-5c97-4686-bc6d-8b9fe612d514",
   "metadata": {},
   "source": [
    "#6\n",
    "Training :: Training the model on this data .example : Books and prepartion of exams\n",
    "Validation : Hyper tuning of parameters .Example : Further books on the same topic \n",
    "Testing data  : test the model .example : taking the test or exam\n"
   ]
  },
  {
   "cell_type": "markdown",
   "id": "78e2e617-3ff2-47f0-87e4-24cb1b87d677",
   "metadata": {},
   "source": [
    "#7\n",
    "Method: Use clustering algorithms to group similar data points together.\n",
    "Application: Anomalies are often data points that do not conform to any cluster or belong to a cluster with significantly fewer members.\n",
    "Example Algorithm: K-means clustering."
   ]
  },
  {
   "cell_type": "markdown",
   "id": "0ffe36e3-0d66-4e53-bb2a-6e096a459b89",
   "metadata": {},
   "source": [
    "#8\n",
    "Supervised : \n",
    "Linear Regression,Logistics,Decision trees\n",
    "\n",
    "Unsupervised : \n",
    "K-Means clustering\n",
    "\n",
    "Hierarcharial clustering"
   ]
  },
  {
   "cell_type": "code",
   "execution_count": null,
   "id": "eddf5ddb-f397-4c37-8c38-7a3b43ce0b36",
   "metadata": {},
   "outputs": [],
   "source": []
  }
 ],
 "metadata": {
  "kernelspec": {
   "display_name": "Python 3 (ipykernel)",
   "language": "python",
   "name": "python3"
  },
  "language_info": {
   "codemirror_mode": {
    "name": "ipython",
    "version": 3
   },
   "file_extension": ".py",
   "mimetype": "text/x-python",
   "name": "python",
   "nbconvert_exporter": "python",
   "pygments_lexer": "ipython3",
   "version": "3.10.8"
  }
 },
 "nbformat": 4,
 "nbformat_minor": 5
}
